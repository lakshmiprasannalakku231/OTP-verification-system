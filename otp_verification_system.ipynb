{
 "cells": [
  {
   "cell_type": "code",
   "execution_count": 1,
   "id": "4c0e0caa-9bc9-472e-87ad-eaddebdfdfe9",
   "metadata": {},
   "outputs": [
    {
     "name": "stdout",
     "output_type": "stream",
     "text": [
      "Collecting secure-smtplib\n",
      "  Downloading secure_smtplib-0.1.1-py2.py3-none-any.whl.metadata (511 bytes)\n",
      "Downloading secure_smtplib-0.1.1-py2.py3-none-any.whl (3.4 kB)\n",
      "Installing collected packages: secure-smtplib\n",
      "Successfully installed secure-smtplib-0.1.1\n",
      "Note: you may need to restart the kernel to use updated packages.\n"
     ]
    }
   ],
   "source": [
    "pip install secure-smtplib"
   ]
  },
  {
   "cell_type": "code",
   "execution_count": null,
   "id": "afa02e7f-2e0e-45ff-9f5d-8ec82c1a3752",
   "metadata": {},
   "outputs": [],
   "source": [
    "import random\n",
    "import smtplib\n",
    "from email.message import EmailMessage\n",
    "\n",
    "\n",
    "# Implement a function to generate a 6-digit OTP randomly.\n",
    "def generate_otp():\n",
    "    otp = \"\"\n",
    "    for i in range(6):\n",
    "        otp+=str(random.randint(0,9))\n",
    "    return otp\n",
    "# print(otp)\n",
    "\n",
    "# Develop a function to simulate sending the OTP to the user's email address.\n",
    "def send_otp_via_email(otp, to_mail):\n",
    "    server = smtplib.SMTP('smtp.gmail.com', 587)\n",
    "    server.starttls()\n",
    "\n",
    "    from_mail = 'lakshmilakku213@gmail.com'\n",
    "    server.login(from_mail, 'dwff blnm tmui xzxt')\n",
    "    # to_mail = input(\"enter your mail:\")\n",
    "\n",
    "    msg = EmailMessage()\n",
    "    msg['Sbject'] = \"OTP Verification\"\n",
    "    msg['From'] = from_mail\n",
    "    msg['To'] = to_mail\n",
    "    msg.set_content(\"Your OTP is:\" + otp)\n",
    "    server.send_message(msg)\n",
    "\n",
    "    print(f\"OTP has been sent to {to_mail}\")\n",
    "\n",
    "# Create a function to prompt the user to enter the OTP received in their email.\n",
    "def get_user_otp():\n",
    "    return input(\"Enter the OTP you received: \")\n",
    "\n",
    "# Implement a function to verify if the entered OTP matches the generated OTP.\n",
    "def verify_otp(input_otp, otp):\n",
    "    if input_otp == otp:\n",
    "        print(\"OTP Verified\")\n",
    "    else:\n",
    "        print(\"Invalid OTP\")\n",
    "    return input_otp == otp\n",
    "\n",
    "# Allow the user to retry OTP entry in case of incorrect input.\n",
    "def main():\n",
    "    to_email = input(\"Enter your email address: \")\n",
    "\n",
    "    input_otp = generate_otp()\n",
    "    send_otp_via_email(input_otp, to_email)\n",
    "\n",
    "    attempts = 3\n",
    "    while attempts > 0:\n",
    "        otp = get_user_otp()\n",
    "        if verify_otp(input_otp, otp):\n",
    "            print(\"Access granted!\")\n",
    "            return\n",
    "        else:\n",
    "            attempts -= 1\n",
    "            print(f\"Incorrect OTP. You have {attempts} attempts left.\")\n",
    "\n",
    "    print(\"Access denied!\")\n",
    "\n",
    "main()"
   ]
  }
 ],
 "metadata": {
  "kernelspec": {
   "display_name": "Python 3 (ipykernel)",
   "language": "python",
   "name": "python3"
  },
  "language_info": {
   "codemirror_mode": {
    "name": "ipython",
    "version": 3
   },
   "file_extension": ".py",
   "mimetype": "text/x-python",
   "name": "python",
   "nbconvert_exporter": "python",
   "pygments_lexer": "ipython3",
   "version": "3.11.7"
  }
 },
 "nbformat": 4,
 "nbformat_minor": 5
}
